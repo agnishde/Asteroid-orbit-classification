{
 "cells": [
  {
   "cell_type": "markdown",
   "id": "e2d1e4f8",
   "metadata": {},
   "source": [
    "# Importing Required Libraries"
   ]
  },
  {
   "cell_type": "code",
   "execution_count": 2,
   "id": "de3ae374",
   "metadata": {},
   "outputs": [],
   "source": [
    "import pandas as pd\n",
    "import numpy as np\n",
    "import matplotlib.pyplot as plt  #Importing Libraries\n",
    "import seaborn as sns"
   ]
  },
  {
   "cell_type": "markdown",
   "id": "af94c61d",
   "metadata": {},
   "source": [
    "# Import the Dataset"
   ]
  },
  {
   "cell_type": "code",
   "execution_count": 3,
   "id": "565b5347",
   "metadata": {},
   "outputs": [],
   "source": [
    "df = pd.read_csv(\"dataset.csv\",low_memory = False) #Imported Dataset"
   ]
  },
  {
   "cell_type": "code",
   "execution_count": 4,
   "id": "c92c5133",
   "metadata": {
    "scrolled": false
   },
   "outputs": [
    {
     "data": {
      "text/html": [
       "<div>\n",
       "<style scoped>\n",
       "    .dataframe tbody tr th:only-of-type {\n",
       "        vertical-align: middle;\n",
       "    }\n",
       "\n",
       "    .dataframe tbody tr th {\n",
       "        vertical-align: top;\n",
       "    }\n",
       "\n",
       "    .dataframe thead th {\n",
       "        text-align: right;\n",
       "    }\n",
       "</style>\n",
       "<table border=\"1\" class=\"dataframe\">\n",
       "  <thead>\n",
       "    <tr style=\"text-align: right;\">\n",
       "      <th></th>\n",
       "      <th>id</th>\n",
       "      <th>spkid</th>\n",
       "      <th>full_name</th>\n",
       "      <th>pdes</th>\n",
       "      <th>name</th>\n",
       "      <th>prefix</th>\n",
       "      <th>neo</th>\n",
       "      <th>pha</th>\n",
       "      <th>H</th>\n",
       "      <th>diameter</th>\n",
       "      <th>albedo</th>\n",
       "      <th>diameter_sigma</th>\n",
       "      <th>orbit_id</th>\n",
       "      <th>epoch</th>\n",
       "      <th>epoch_mjd</th>\n",
       "      <th>epoch_cal</th>\n",
       "      <th>equinox</th>\n",
       "      <th>e</th>\n",
       "      <th>a</th>\n",
       "      <th>q</th>\n",
       "      <th>i</th>\n",
       "      <th>om</th>\n",
       "      <th>w</th>\n",
       "      <th>ma</th>\n",
       "      <th>ad</th>\n",
       "      <th>n</th>\n",
       "      <th>tp</th>\n",
       "      <th>tp_cal</th>\n",
       "      <th>per</th>\n",
       "      <th>per_y</th>\n",
       "      <th>moid</th>\n",
       "      <th>moid_ld</th>\n",
       "      <th>sigma_e</th>\n",
       "      <th>sigma_a</th>\n",
       "      <th>sigma_q</th>\n",
       "      <th>sigma_i</th>\n",
       "      <th>sigma_om</th>\n",
       "      <th>sigma_w</th>\n",
       "      <th>sigma_ma</th>\n",
       "      <th>sigma_ad</th>\n",
       "      <th>sigma_n</th>\n",
       "      <th>sigma_tp</th>\n",
       "      <th>sigma_per</th>\n",
       "      <th>class</th>\n",
       "      <th>rms</th>\n",
       "    </tr>\n",
       "  </thead>\n",
       "  <tbody>\n",
       "    <tr>\n",
       "      <th>0</th>\n",
       "      <td>a0000001</td>\n",
       "      <td>2000001</td>\n",
       "      <td>1 Ceres</td>\n",
       "      <td>1</td>\n",
       "      <td>Ceres</td>\n",
       "      <td>NaN</td>\n",
       "      <td>N</td>\n",
       "      <td>N</td>\n",
       "      <td>3.40</td>\n",
       "      <td>939.400</td>\n",
       "      <td>0.0900</td>\n",
       "      <td>0.200</td>\n",
       "      <td>JPL 47</td>\n",
       "      <td>2458600.5</td>\n",
       "      <td>58600</td>\n",
       "      <td>20190427.0</td>\n",
       "      <td>J2000</td>\n",
       "      <td>0.076009</td>\n",
       "      <td>2.769165</td>\n",
       "      <td>2.558684</td>\n",
       "      <td>10.594067</td>\n",
       "      <td>80.305531</td>\n",
       "      <td>73.597695</td>\n",
       "      <td>77.372098</td>\n",
       "      <td>2.979647</td>\n",
       "      <td>0.213885</td>\n",
       "      <td>2.458239e+06</td>\n",
       "      <td>2.018043e+07</td>\n",
       "      <td>1683.145703</td>\n",
       "      <td>4.608202</td>\n",
       "      <td>1.59478</td>\n",
       "      <td>620.640533</td>\n",
       "      <td>4.819000e-12</td>\n",
       "      <td>1.032800e-11</td>\n",
       "      <td>1.956900e-11</td>\n",
       "      <td>4.608900e-09</td>\n",
       "      <td>6.168800e-08</td>\n",
       "      <td>6.624800e-08</td>\n",
       "      <td>7.820700e-09</td>\n",
       "      <td>1.111300e-11</td>\n",
       "      <td>1.196500e-12</td>\n",
       "      <td>3.782900e-08</td>\n",
       "      <td>9.415900e-09</td>\n",
       "      <td>MBA</td>\n",
       "      <td>0.43301</td>\n",
       "    </tr>\n",
       "    <tr>\n",
       "      <th>1</th>\n",
       "      <td>a0000002</td>\n",
       "      <td>2000002</td>\n",
       "      <td>2 Pallas</td>\n",
       "      <td>2</td>\n",
       "      <td>Pallas</td>\n",
       "      <td>NaN</td>\n",
       "      <td>N</td>\n",
       "      <td>N</td>\n",
       "      <td>4.20</td>\n",
       "      <td>545.000</td>\n",
       "      <td>0.1010</td>\n",
       "      <td>18.000</td>\n",
       "      <td>JPL 37</td>\n",
       "      <td>2459000.5</td>\n",
       "      <td>59000</td>\n",
       "      <td>20200531.0</td>\n",
       "      <td>J2000</td>\n",
       "      <td>0.229972</td>\n",
       "      <td>2.773841</td>\n",
       "      <td>2.135935</td>\n",
       "      <td>34.832932</td>\n",
       "      <td>173.024741</td>\n",
       "      <td>310.202392</td>\n",
       "      <td>144.975675</td>\n",
       "      <td>3.411748</td>\n",
       "      <td>0.213345</td>\n",
       "      <td>2.458321e+06</td>\n",
       "      <td>2.018072e+07</td>\n",
       "      <td>1687.410992</td>\n",
       "      <td>4.619880</td>\n",
       "      <td>1.23429</td>\n",
       "      <td>480.348639</td>\n",
       "      <td>3.193400e-08</td>\n",
       "      <td>4.033700e-09</td>\n",
       "      <td>8.832200e-08</td>\n",
       "      <td>3.469400e-06</td>\n",
       "      <td>6.272400e-06</td>\n",
       "      <td>9.128200e-06</td>\n",
       "      <td>8.859100e-06</td>\n",
       "      <td>4.961300e-09</td>\n",
       "      <td>4.653600e-10</td>\n",
       "      <td>4.078700e-05</td>\n",
       "      <td>3.680700e-06</td>\n",
       "      <td>MBA</td>\n",
       "      <td>0.35936</td>\n",
       "    </tr>\n",
       "    <tr>\n",
       "      <th>2</th>\n",
       "      <td>a0000003</td>\n",
       "      <td>2000003</td>\n",
       "      <td>3 Juno</td>\n",
       "      <td>3</td>\n",
       "      <td>Juno</td>\n",
       "      <td>NaN</td>\n",
       "      <td>N</td>\n",
       "      <td>N</td>\n",
       "      <td>5.33</td>\n",
       "      <td>246.596</td>\n",
       "      <td>0.2140</td>\n",
       "      <td>10.594</td>\n",
       "      <td>JPL 112</td>\n",
       "      <td>2459000.5</td>\n",
       "      <td>59000</td>\n",
       "      <td>20200531.0</td>\n",
       "      <td>J2000</td>\n",
       "      <td>0.256936</td>\n",
       "      <td>2.668285</td>\n",
       "      <td>1.982706</td>\n",
       "      <td>12.991043</td>\n",
       "      <td>169.851482</td>\n",
       "      <td>248.066193</td>\n",
       "      <td>125.435355</td>\n",
       "      <td>3.353865</td>\n",
       "      <td>0.226129</td>\n",
       "      <td>2.458446e+06</td>\n",
       "      <td>2.018112e+07</td>\n",
       "      <td>1592.013769</td>\n",
       "      <td>4.358696</td>\n",
       "      <td>1.03429</td>\n",
       "      <td>402.514639</td>\n",
       "      <td>3.052000e-08</td>\n",
       "      <td>3.471800e-09</td>\n",
       "      <td>8.139200e-08</td>\n",
       "      <td>3.223100e-06</td>\n",
       "      <td>1.664600e-05</td>\n",
       "      <td>1.772100e-05</td>\n",
       "      <td>8.110400e-06</td>\n",
       "      <td>4.363900e-09</td>\n",
       "      <td>4.413400e-10</td>\n",
       "      <td>3.528800e-05</td>\n",
       "      <td>3.107200e-06</td>\n",
       "      <td>MBA</td>\n",
       "      <td>0.33848</td>\n",
       "    </tr>\n",
       "    <tr>\n",
       "      <th>3</th>\n",
       "      <td>a0000004</td>\n",
       "      <td>2000004</td>\n",
       "      <td>4 Vesta</td>\n",
       "      <td>4</td>\n",
       "      <td>Vesta</td>\n",
       "      <td>NaN</td>\n",
       "      <td>N</td>\n",
       "      <td>N</td>\n",
       "      <td>3.00</td>\n",
       "      <td>525.400</td>\n",
       "      <td>0.4228</td>\n",
       "      <td>0.200</td>\n",
       "      <td>JPL 35</td>\n",
       "      <td>2458600.5</td>\n",
       "      <td>58600</td>\n",
       "      <td>20190427.0</td>\n",
       "      <td>J2000</td>\n",
       "      <td>0.088721</td>\n",
       "      <td>2.361418</td>\n",
       "      <td>2.151909</td>\n",
       "      <td>7.141771</td>\n",
       "      <td>103.810804</td>\n",
       "      <td>150.728541</td>\n",
       "      <td>95.861938</td>\n",
       "      <td>2.570926</td>\n",
       "      <td>0.271609</td>\n",
       "      <td>2.458248e+06</td>\n",
       "      <td>2.018051e+07</td>\n",
       "      <td>1325.432763</td>\n",
       "      <td>3.628837</td>\n",
       "      <td>1.13948</td>\n",
       "      <td>443.451432</td>\n",
       "      <td>2.332100e-10</td>\n",
       "      <td>1.514300e-09</td>\n",
       "      <td>1.928600e-09</td>\n",
       "      <td>2.170600e-07</td>\n",
       "      <td>3.880800e-07</td>\n",
       "      <td>1.789300e-07</td>\n",
       "      <td>1.206800e-06</td>\n",
       "      <td>1.648600e-09</td>\n",
       "      <td>2.612500e-10</td>\n",
       "      <td>4.103700e-06</td>\n",
       "      <td>1.274900e-06</td>\n",
       "      <td>MBA</td>\n",
       "      <td>0.39980</td>\n",
       "    </tr>\n",
       "    <tr>\n",
       "      <th>4</th>\n",
       "      <td>a0000005</td>\n",
       "      <td>2000005</td>\n",
       "      <td>5 Astraea</td>\n",
       "      <td>5</td>\n",
       "      <td>Astraea</td>\n",
       "      <td>NaN</td>\n",
       "      <td>N</td>\n",
       "      <td>N</td>\n",
       "      <td>6.90</td>\n",
       "      <td>106.699</td>\n",
       "      <td>0.2740</td>\n",
       "      <td>3.140</td>\n",
       "      <td>JPL 114</td>\n",
       "      <td>2459000.5</td>\n",
       "      <td>59000</td>\n",
       "      <td>20200531.0</td>\n",
       "      <td>J2000</td>\n",
       "      <td>0.190913</td>\n",
       "      <td>2.574037</td>\n",
       "      <td>2.082619</td>\n",
       "      <td>5.367427</td>\n",
       "      <td>141.571026</td>\n",
       "      <td>358.648418</td>\n",
       "      <td>17.846343</td>\n",
       "      <td>3.065455</td>\n",
       "      <td>0.238661</td>\n",
       "      <td>2.458926e+06</td>\n",
       "      <td>2.020032e+07</td>\n",
       "      <td>1508.414421</td>\n",
       "      <td>4.129814</td>\n",
       "      <td>1.09575</td>\n",
       "      <td>426.433027</td>\n",
       "      <td>2.373700e-08</td>\n",
       "      <td>3.970900e-09</td>\n",
       "      <td>6.092400e-08</td>\n",
       "      <td>2.740800e-06</td>\n",
       "      <td>2.894900e-05</td>\n",
       "      <td>2.984200e-05</td>\n",
       "      <td>8.303800e-06</td>\n",
       "      <td>4.729000e-09</td>\n",
       "      <td>5.522700e-10</td>\n",
       "      <td>3.474300e-05</td>\n",
       "      <td>3.490500e-06</td>\n",
       "      <td>MBA</td>\n",
       "      <td>0.52191</td>\n",
       "    </tr>\n",
       "  </tbody>\n",
       "</table>\n",
       "</div>"
      ],
      "text/plain": [
       "         id    spkid       full_name pdes     name prefix neo pha     H  \\\n",
       "0  a0000001  2000001         1 Ceres    1    Ceres    NaN   N   N  3.40   \n",
       "1  a0000002  2000002        2 Pallas    2   Pallas    NaN   N   N  4.20   \n",
       "2  a0000003  2000003          3 Juno    3     Juno    NaN   N   N  5.33   \n",
       "3  a0000004  2000004         4 Vesta    4    Vesta    NaN   N   N  3.00   \n",
       "4  a0000005  2000005       5 Astraea    5  Astraea    NaN   N   N  6.90   \n",
       "\n",
       "   diameter  albedo  diameter_sigma orbit_id      epoch  epoch_mjd  \\\n",
       "0   939.400  0.0900           0.200   JPL 47  2458600.5      58600   \n",
       "1   545.000  0.1010          18.000   JPL 37  2459000.5      59000   \n",
       "2   246.596  0.2140          10.594  JPL 112  2459000.5      59000   \n",
       "3   525.400  0.4228           0.200   JPL 35  2458600.5      58600   \n",
       "4   106.699  0.2740           3.140  JPL 114  2459000.5      59000   \n",
       "\n",
       "    epoch_cal equinox         e         a         q          i          om  \\\n",
       "0  20190427.0   J2000  0.076009  2.769165  2.558684  10.594067   80.305531   \n",
       "1  20200531.0   J2000  0.229972  2.773841  2.135935  34.832932  173.024741   \n",
       "2  20200531.0   J2000  0.256936  2.668285  1.982706  12.991043  169.851482   \n",
       "3  20190427.0   J2000  0.088721  2.361418  2.151909   7.141771  103.810804   \n",
       "4  20200531.0   J2000  0.190913  2.574037  2.082619   5.367427  141.571026   \n",
       "\n",
       "            w          ma        ad         n            tp        tp_cal  \\\n",
       "0   73.597695   77.372098  2.979647  0.213885  2.458239e+06  2.018043e+07   \n",
       "1  310.202392  144.975675  3.411748  0.213345  2.458321e+06  2.018072e+07   \n",
       "2  248.066193  125.435355  3.353865  0.226129  2.458446e+06  2.018112e+07   \n",
       "3  150.728541   95.861938  2.570926  0.271609  2.458248e+06  2.018051e+07   \n",
       "4  358.648418   17.846343  3.065455  0.238661  2.458926e+06  2.020032e+07   \n",
       "\n",
       "           per     per_y     moid     moid_ld       sigma_e       sigma_a  \\\n",
       "0  1683.145703  4.608202  1.59478  620.640533  4.819000e-12  1.032800e-11   \n",
       "1  1687.410992  4.619880  1.23429  480.348639  3.193400e-08  4.033700e-09   \n",
       "2  1592.013769  4.358696  1.03429  402.514639  3.052000e-08  3.471800e-09   \n",
       "3  1325.432763  3.628837  1.13948  443.451432  2.332100e-10  1.514300e-09   \n",
       "4  1508.414421  4.129814  1.09575  426.433027  2.373700e-08  3.970900e-09   \n",
       "\n",
       "        sigma_q       sigma_i      sigma_om       sigma_w      sigma_ma  \\\n",
       "0  1.956900e-11  4.608900e-09  6.168800e-08  6.624800e-08  7.820700e-09   \n",
       "1  8.832200e-08  3.469400e-06  6.272400e-06  9.128200e-06  8.859100e-06   \n",
       "2  8.139200e-08  3.223100e-06  1.664600e-05  1.772100e-05  8.110400e-06   \n",
       "3  1.928600e-09  2.170600e-07  3.880800e-07  1.789300e-07  1.206800e-06   \n",
       "4  6.092400e-08  2.740800e-06  2.894900e-05  2.984200e-05  8.303800e-06   \n",
       "\n",
       "       sigma_ad       sigma_n      sigma_tp     sigma_per class      rms  \n",
       "0  1.111300e-11  1.196500e-12  3.782900e-08  9.415900e-09   MBA  0.43301  \n",
       "1  4.961300e-09  4.653600e-10  4.078700e-05  3.680700e-06   MBA  0.35936  \n",
       "2  4.363900e-09  4.413400e-10  3.528800e-05  3.107200e-06   MBA  0.33848  \n",
       "3  1.648600e-09  2.612500e-10  4.103700e-06  1.274900e-06   MBA  0.39980  \n",
       "4  4.729000e-09  5.522700e-10  3.474300e-05  3.490500e-06   MBA  0.52191  "
      ]
     },
     "execution_count": 4,
     "metadata": {},
     "output_type": "execute_result"
    }
   ],
   "source": [
    "pd.set_option(\"display.max_columns\", None) #Changing settings to display all columns\n",
    "df.head(5) #Show first 5 rows in the dataset"
   ]
  },
  {
   "cell_type": "code",
   "execution_count": 5,
   "id": "2cee994c",
   "metadata": {},
   "outputs": [],
   "source": [
    "df.rename(columns = {'class':'OrbitType'}, inplace = True) #Renaming column class to avoid confusion with keyword\n",
    "  "
   ]
  },
  {
   "cell_type": "code",
   "execution_count": 6,
   "id": "f9c763c6",
   "metadata": {},
   "outputs": [
    {
     "data": {
      "text/plain": [
       "(958524, 45)"
      ]
     },
     "execution_count": 6,
     "metadata": {},
     "output_type": "execute_result"
    }
   ],
   "source": [
    "df.shape #Show the number of rows and columns "
   ]
  },
  {
   "cell_type": "code",
   "execution_count": 7,
   "id": "05eb6832",
   "metadata": {},
   "outputs": [],
   "source": [
    "df = df.drop(['id','full_name','pdes','spkid','name','prefix','orbit_id'], axis=1) #Dropping textual columns that dont convey any meaningful information"
   ]
  },
  {
   "cell_type": "code",
   "execution_count": 8,
   "id": "b4a6f4b5",
   "metadata": {},
   "outputs": [
    {
     "data": {
      "text/plain": [
       "(958524, 38)"
      ]
     },
     "execution_count": 8,
     "metadata": {},
     "output_type": "execute_result"
    }
   ],
   "source": [
    "df.shape #Checking updated no of columns"
   ]
  },
  {
   "cell_type": "code",
   "execution_count": 9,
   "id": "9e669a45",
   "metadata": {},
   "outputs": [
    {
     "name": "stdout",
     "output_type": "stream",
     "text": [
      "<class 'pandas.core.frame.DataFrame'>\n",
      "RangeIndex: 958524 entries, 0 to 958523\n",
      "Data columns (total 38 columns):\n",
      " #   Column          Non-Null Count   Dtype  \n",
      "---  ------          --------------   -----  \n",
      " 0   neo             958520 non-null  object \n",
      " 1   pha             938603 non-null  object \n",
      " 2   H               952261 non-null  float64\n",
      " 3   diameter        136209 non-null  float64\n",
      " 4   albedo          135103 non-null  float64\n",
      " 5   diameter_sigma  136081 non-null  float64\n",
      " 6   epoch           958524 non-null  float64\n",
      " 7   epoch_mjd       958524 non-null  int64  \n",
      " 8   epoch_cal       958524 non-null  float64\n",
      " 9   equinox         958524 non-null  object \n",
      " 10  e               958524 non-null  float64\n",
      " 11  a               958524 non-null  float64\n",
      " 12  q               958524 non-null  float64\n",
      " 13  i               958524 non-null  float64\n",
      " 14  om              958524 non-null  float64\n",
      " 15  w               958524 non-null  float64\n",
      " 16  ma              958523 non-null  float64\n",
      " 17  ad              958520 non-null  float64\n",
      " 18  n               958524 non-null  float64\n",
      " 19  tp              958524 non-null  float64\n",
      " 20  tp_cal          958524 non-null  float64\n",
      " 21  per             958520 non-null  float64\n",
      " 22  per_y           958523 non-null  float64\n",
      " 23  moid            938603 non-null  float64\n",
      " 24  moid_ld         958397 non-null  float64\n",
      " 25  sigma_e         938602 non-null  float64\n",
      " 26  sigma_a         938602 non-null  float64\n",
      " 27  sigma_q         938602 non-null  float64\n",
      " 28  sigma_i         938602 non-null  float64\n",
      " 29  sigma_om        938602 non-null  float64\n",
      " 30  sigma_w         938602 non-null  float64\n",
      " 31  sigma_ma        938602 non-null  float64\n",
      " 32  sigma_ad        938598 non-null  float64\n",
      " 33  sigma_n         938602 non-null  float64\n",
      " 34  sigma_tp        938602 non-null  float64\n",
      " 35  sigma_per       938598 non-null  float64\n",
      " 36  OrbitType       958524 non-null  object \n",
      " 37  rms             958522 non-null  float64\n",
      "dtypes: float64(33), int64(1), object(4)\n",
      "memory usage: 277.9+ MB\n"
     ]
    }
   ],
   "source": [
    "df.info()  #Give the count of no of non empty rows in each column and nature of each column"
   ]
  },
  {
   "cell_type": "code",
   "execution_count": 10,
   "id": "db81625e",
   "metadata": {},
   "outputs": [
    {
     "data": {
      "text/html": [
       "<div>\n",
       "<style scoped>\n",
       "    .dataframe tbody tr th:only-of-type {\n",
       "        vertical-align: middle;\n",
       "    }\n",
       "\n",
       "    .dataframe tbody tr th {\n",
       "        vertical-align: top;\n",
       "    }\n",
       "\n",
       "    .dataframe thead th {\n",
       "        text-align: right;\n",
       "    }\n",
       "</style>\n",
       "<table border=\"1\" class=\"dataframe\">\n",
       "  <thead>\n",
       "    <tr style=\"text-align: right;\">\n",
       "      <th></th>\n",
       "      <th>H</th>\n",
       "      <th>diameter</th>\n",
       "      <th>albedo</th>\n",
       "      <th>diameter_sigma</th>\n",
       "      <th>epoch</th>\n",
       "      <th>epoch_mjd</th>\n",
       "      <th>epoch_cal</th>\n",
       "      <th>e</th>\n",
       "      <th>a</th>\n",
       "      <th>q</th>\n",
       "      <th>i</th>\n",
       "      <th>om</th>\n",
       "      <th>w</th>\n",
       "      <th>ma</th>\n",
       "      <th>ad</th>\n",
       "      <th>n</th>\n",
       "      <th>tp</th>\n",
       "      <th>tp_cal</th>\n",
       "      <th>per</th>\n",
       "      <th>per_y</th>\n",
       "      <th>moid</th>\n",
       "      <th>moid_ld</th>\n",
       "      <th>sigma_e</th>\n",
       "      <th>sigma_a</th>\n",
       "      <th>sigma_q</th>\n",
       "      <th>sigma_i</th>\n",
       "      <th>sigma_om</th>\n",
       "      <th>sigma_w</th>\n",
       "      <th>sigma_ma</th>\n",
       "      <th>sigma_ad</th>\n",
       "      <th>sigma_n</th>\n",
       "      <th>sigma_tp</th>\n",
       "      <th>sigma_per</th>\n",
       "      <th>rms</th>\n",
       "    </tr>\n",
       "  </thead>\n",
       "  <tbody>\n",
       "    <tr>\n",
       "      <th>count</th>\n",
       "      <td>952261.000000</td>\n",
       "      <td>136209.000000</td>\n",
       "      <td>135103.000000</td>\n",
       "      <td>136081.000000</td>\n",
       "      <td>9.585240e+05</td>\n",
       "      <td>958524.000000</td>\n",
       "      <td>9.585240e+05</td>\n",
       "      <td>958524.000000</td>\n",
       "      <td>958524.000000</td>\n",
       "      <td>958524.000000</td>\n",
       "      <td>958524.000000</td>\n",
       "      <td>958524.000000</td>\n",
       "      <td>958524.000000</td>\n",
       "      <td>958523.000000</td>\n",
       "      <td>958520.000000</td>\n",
       "      <td>9.585240e+05</td>\n",
       "      <td>9.585240e+05</td>\n",
       "      <td>9.585240e+05</td>\n",
       "      <td>9.585200e+05</td>\n",
       "      <td>9.585230e+05</td>\n",
       "      <td>9.386030e+05</td>\n",
       "      <td>958397.000000</td>\n",
       "      <td>9.386020e+05</td>\n",
       "      <td>9.386020e+05</td>\n",
       "      <td>9.386020e+05</td>\n",
       "      <td>9.386020e+05</td>\n",
       "      <td>9.386020e+05</td>\n",
       "      <td>9.386020e+05</td>\n",
       "      <td>9.386020e+05</td>\n",
       "      <td>9.385980e+05</td>\n",
       "      <td>9.386020e+05</td>\n",
       "      <td>9.386020e+05</td>\n",
       "      <td>9.385980e+05</td>\n",
       "      <td>958522.000000</td>\n",
       "    </tr>\n",
       "    <tr>\n",
       "      <th>mean</th>\n",
       "      <td>16.906411</td>\n",
       "      <td>5.506429</td>\n",
       "      <td>0.130627</td>\n",
       "      <td>0.479184</td>\n",
       "      <td>2.458869e+06</td>\n",
       "      <td>58868.781950</td>\n",
       "      <td>2.019693e+07</td>\n",
       "      <td>0.156116</td>\n",
       "      <td>2.902143</td>\n",
       "      <td>2.394887</td>\n",
       "      <td>9.054901</td>\n",
       "      <td>168.456416</td>\n",
       "      <td>181.369457</td>\n",
       "      <td>177.352582</td>\n",
       "      <td>3.455820</td>\n",
       "      <td>2.366846e-01</td>\n",
       "      <td>2.458856e+06</td>\n",
       "      <td>2.019581e+07</td>\n",
       "      <td>5.085344e+03</td>\n",
       "      <td>1.392287e+01</td>\n",
       "      <td>1.415162e+00</td>\n",
       "      <td>539.364207</td>\n",
       "      <td>7.262721e-01</td>\n",
       "      <td>1.541424e+01</td>\n",
       "      <td>1.982929e+01</td>\n",
       "      <td>1.168449e+00</td>\n",
       "      <td>5.310234e+00</td>\n",
       "      <td>1.370062e+06</td>\n",
       "      <td>1.369977e+06</td>\n",
       "      <td>2.131453e+01</td>\n",
       "      <td>5.060221e-02</td>\n",
       "      <td>4.312780e+08</td>\n",
       "      <td>8.525815e+04</td>\n",
       "      <td>0.561153</td>\n",
       "    </tr>\n",
       "    <tr>\n",
       "      <th>std</th>\n",
       "      <td>1.790405</td>\n",
       "      <td>9.425164</td>\n",
       "      <td>0.110323</td>\n",
       "      <td>0.782895</td>\n",
       "      <td>7.016716e+02</td>\n",
       "      <td>701.671573</td>\n",
       "      <td>1.930354e+04</td>\n",
       "      <td>0.092643</td>\n",
       "      <td>39.719503</td>\n",
       "      <td>2.139246</td>\n",
       "      <td>6.637656</td>\n",
       "      <td>102.881707</td>\n",
       "      <td>103.887995</td>\n",
       "      <td>105.816844</td>\n",
       "      <td>71.769401</td>\n",
       "      <td>7.941705e-02</td>\n",
       "      <td>1.580506e+03</td>\n",
       "      <td>4.337669e+04</td>\n",
       "      <td>2.308961e+06</td>\n",
       "      <td>6.321581e+03</td>\n",
       "      <td>2.156731e+00</td>\n",
       "      <td>834.306975</td>\n",
       "      <td>9.336391e+01</td>\n",
       "      <td>4.392381e+03</td>\n",
       "      <td>2.903785e+03</td>\n",
       "      <td>1.282231e+02</td>\n",
       "      <td>1.333381e+03</td>\n",
       "      <td>9.158996e+08</td>\n",
       "      <td>9.158991e+08</td>\n",
       "      <td>7.197034e+03</td>\n",
       "      <td>9.814953e+00</td>\n",
       "      <td>2.953046e+11</td>\n",
       "      <td>2.767681e+07</td>\n",
       "      <td>2.745700</td>\n",
       "    </tr>\n",
       "    <tr>\n",
       "      <th>min</th>\n",
       "      <td>-1.100000</td>\n",
       "      <td>0.002500</td>\n",
       "      <td>0.001000</td>\n",
       "      <td>0.000500</td>\n",
       "      <td>2.425052e+06</td>\n",
       "      <td>25051.000000</td>\n",
       "      <td>1.927062e+07</td>\n",
       "      <td>0.000000</td>\n",
       "      <td>-14702.447872</td>\n",
       "      <td>0.070511</td>\n",
       "      <td>0.007744</td>\n",
       "      <td>0.000025</td>\n",
       "      <td>0.000130</td>\n",
       "      <td>-70.703676</td>\n",
       "      <td>0.653773</td>\n",
       "      <td>1.608247e-07</td>\n",
       "      <td>2.283183e+06</td>\n",
       "      <td>1.539011e+07</td>\n",
       "      <td>1.511918e+02</td>\n",
       "      <td>0.000000e+00</td>\n",
       "      <td>4.544120e-07</td>\n",
       "      <td>0.000000</td>\n",
       "      <td>4.819000e-12</td>\n",
       "      <td>1.032800e-11</td>\n",
       "      <td>1.956900e-11</td>\n",
       "      <td>4.608900e-09</td>\n",
       "      <td>6.168800e-08</td>\n",
       "      <td>6.624800e-08</td>\n",
       "      <td>7.820700e-09</td>\n",
       "      <td>1.111300e-11</td>\n",
       "      <td>1.196500e-12</td>\n",
       "      <td>3.782900e-08</td>\n",
       "      <td>9.415900e-09</td>\n",
       "      <td>0.000000</td>\n",
       "    </tr>\n",
       "    <tr>\n",
       "      <th>25%</th>\n",
       "      <td>16.100000</td>\n",
       "      <td>2.780000</td>\n",
       "      <td>0.053000</td>\n",
       "      <td>0.180000</td>\n",
       "      <td>2.459000e+06</td>\n",
       "      <td>59000.000000</td>\n",
       "      <td>2.020053e+07</td>\n",
       "      <td>0.092193</td>\n",
       "      <td>2.387835</td>\n",
       "      <td>1.971401</td>\n",
       "      <td>4.165419</td>\n",
       "      <td>80.604399</td>\n",
       "      <td>91.482063</td>\n",
       "      <td>83.785012</td>\n",
       "      <td>2.781603</td>\n",
       "      <td>1.894969e-01</td>\n",
       "      <td>2.458560e+06</td>\n",
       "      <td>2.019032e+07</td>\n",
       "      <td>1.347738e+03</td>\n",
       "      <td>3.689903e+00</td>\n",
       "      <td>9.797020e-01</td>\n",
       "      <td>375.394939</td>\n",
       "      <td>5.474900e-08</td>\n",
       "      <td>2.046500e-08</td>\n",
       "      <td>1.462000e-07</td>\n",
       "      <td>6.095900e-06</td>\n",
       "      <td>3.619400e-05</td>\n",
       "      <td>5.755000e-05</td>\n",
       "      <td>2.573700e-05</td>\n",
       "      <td>2.340900e-08</td>\n",
       "      <td>2.768800e-09</td>\n",
       "      <td>1.110900e-04</td>\n",
       "      <td>1.794500e-05</td>\n",
       "      <td>0.518040</td>\n",
       "    </tr>\n",
       "    <tr>\n",
       "      <th>50%</th>\n",
       "      <td>16.900000</td>\n",
       "      <td>3.972000</td>\n",
       "      <td>0.079000</td>\n",
       "      <td>0.332000</td>\n",
       "      <td>2.459000e+06</td>\n",
       "      <td>59000.000000</td>\n",
       "      <td>2.020053e+07</td>\n",
       "      <td>0.145002</td>\n",
       "      <td>2.646969</td>\n",
       "      <td>2.225816</td>\n",
       "      <td>7.415665</td>\n",
       "      <td>159.826919</td>\n",
       "      <td>182.358081</td>\n",
       "      <td>175.641078</td>\n",
       "      <td>3.046995</td>\n",
       "      <td>2.288655e-01</td>\n",
       "      <td>2.458945e+06</td>\n",
       "      <td>2.020041e+07</td>\n",
       "      <td>1.572976e+03</td>\n",
       "      <td>4.306571e+00</td>\n",
       "      <td>1.240850e+00</td>\n",
       "      <td>477.706175</td>\n",
       "      <td>8.171600e-08</td>\n",
       "      <td>3.849150e-08</td>\n",
       "      <td>2.271900e-07</td>\n",
       "      <td>8.688800e-06</td>\n",
       "      <td>6.642550e-05</td>\n",
       "      <td>1.047100e-04</td>\n",
       "      <td>4.900100e-05</td>\n",
       "      <td>4.359000e-08</td>\n",
       "      <td>4.638000e-09</td>\n",
       "      <td>2.230800e-04</td>\n",
       "      <td>3.501700e-05</td>\n",
       "      <td>0.566280</td>\n",
       "    </tr>\n",
       "    <tr>\n",
       "      <th>75%</th>\n",
       "      <td>17.714000</td>\n",
       "      <td>5.765000</td>\n",
       "      <td>0.190000</td>\n",
       "      <td>0.620000</td>\n",
       "      <td>2.459000e+06</td>\n",
       "      <td>59000.000000</td>\n",
       "      <td>2.020053e+07</td>\n",
       "      <td>0.200650</td>\n",
       "      <td>3.001932</td>\n",
       "      <td>2.578315</td>\n",
       "      <td>12.407550</td>\n",
       "      <td>252.247751</td>\n",
       "      <td>271.521589</td>\n",
       "      <td>269.865749</td>\n",
       "      <td>3.364793</td>\n",
       "      <td>2.671142e-01</td>\n",
       "      <td>2.459361e+06</td>\n",
       "      <td>2.021053e+07</td>\n",
       "      <td>1.899765e+03</td>\n",
       "      <td>5.201272e+00</td>\n",
       "      <td>1.593370e+00</td>\n",
       "      <td>617.324804</td>\n",
       "      <td>2.336475e-07</td>\n",
       "      <td>1.044675e-07</td>\n",
       "      <td>6.583200e-07</td>\n",
       "      <td>1.591500e-05</td>\n",
       "      <td>1.609775e-04</td>\n",
       "      <td>3.114400e-04</td>\n",
       "      <td>1.718900e-04</td>\n",
       "      <td>1.196600e-07</td>\n",
       "      <td>1.124000e-08</td>\n",
       "      <td>8.139600e-04</td>\n",
       "      <td>9.775475e-05</td>\n",
       "      <td>0.613927</td>\n",
       "    </tr>\n",
       "    <tr>\n",
       "      <th>max</th>\n",
       "      <td>33.200000</td>\n",
       "      <td>939.400000</td>\n",
       "      <td>1.000000</td>\n",
       "      <td>140.000000</td>\n",
       "      <td>2.459000e+06</td>\n",
       "      <td>59000.000000</td>\n",
       "      <td>2.020053e+07</td>\n",
       "      <td>1.855356</td>\n",
       "      <td>33488.895955</td>\n",
       "      <td>80.398819</td>\n",
       "      <td>175.082901</td>\n",
       "      <td>359.999793</td>\n",
       "      <td>359.999646</td>\n",
       "      <td>491.618014</td>\n",
       "      <td>66972.796064</td>\n",
       "      <td>2.381082e+00</td>\n",
       "      <td>2.546362e+06</td>\n",
       "      <td>2.259081e+07</td>\n",
       "      <td>2.238462e+09</td>\n",
       "      <td>6.128574e+06</td>\n",
       "      <td>7.947660e+01</td>\n",
       "      <td>30929.908422</td>\n",
       "      <td>3.942500e+04</td>\n",
       "      <td>3.241200e+06</td>\n",
       "      <td>1.015000e+06</td>\n",
       "      <td>5.533000e+04</td>\n",
       "      <td>1.199100e+06</td>\n",
       "      <td>8.845100e+11</td>\n",
       "      <td>8.845100e+11</td>\n",
       "      <td>5.509700e+06</td>\n",
       "      <td>7.698800e+03</td>\n",
       "      <td>2.853100e+14</td>\n",
       "      <td>1.910700e+10</td>\n",
       "      <td>2686.600000</td>\n",
       "    </tr>\n",
       "  </tbody>\n",
       "</table>\n",
       "</div>"
      ],
      "text/plain": [
       "                   H       diameter         albedo  diameter_sigma  \\\n",
       "count  952261.000000  136209.000000  135103.000000   136081.000000   \n",
       "mean       16.906411       5.506429       0.130627        0.479184   \n",
       "std         1.790405       9.425164       0.110323        0.782895   \n",
       "min        -1.100000       0.002500       0.001000        0.000500   \n",
       "25%        16.100000       2.780000       0.053000        0.180000   \n",
       "50%        16.900000       3.972000       0.079000        0.332000   \n",
       "75%        17.714000       5.765000       0.190000        0.620000   \n",
       "max        33.200000     939.400000       1.000000      140.000000   \n",
       "\n",
       "              epoch      epoch_mjd     epoch_cal              e  \\\n",
       "count  9.585240e+05  958524.000000  9.585240e+05  958524.000000   \n",
       "mean   2.458869e+06   58868.781950  2.019693e+07       0.156116   \n",
       "std    7.016716e+02     701.671573  1.930354e+04       0.092643   \n",
       "min    2.425052e+06   25051.000000  1.927062e+07       0.000000   \n",
       "25%    2.459000e+06   59000.000000  2.020053e+07       0.092193   \n",
       "50%    2.459000e+06   59000.000000  2.020053e+07       0.145002   \n",
       "75%    2.459000e+06   59000.000000  2.020053e+07       0.200650   \n",
       "max    2.459000e+06   59000.000000  2.020053e+07       1.855356   \n",
       "\n",
       "                   a              q              i             om  \\\n",
       "count  958524.000000  958524.000000  958524.000000  958524.000000   \n",
       "mean        2.902143       2.394887       9.054901     168.456416   \n",
       "std        39.719503       2.139246       6.637656     102.881707   \n",
       "min    -14702.447872       0.070511       0.007744       0.000025   \n",
       "25%         2.387835       1.971401       4.165419      80.604399   \n",
       "50%         2.646969       2.225816       7.415665     159.826919   \n",
       "75%         3.001932       2.578315      12.407550     252.247751   \n",
       "max     33488.895955      80.398819     175.082901     359.999793   \n",
       "\n",
       "                   w             ma             ad             n  \\\n",
       "count  958524.000000  958523.000000  958520.000000  9.585240e+05   \n",
       "mean      181.369457     177.352582       3.455820  2.366846e-01   \n",
       "std       103.887995     105.816844      71.769401  7.941705e-02   \n",
       "min         0.000130     -70.703676       0.653773  1.608247e-07   \n",
       "25%        91.482063      83.785012       2.781603  1.894969e-01   \n",
       "50%       182.358081     175.641078       3.046995  2.288655e-01   \n",
       "75%       271.521589     269.865749       3.364793  2.671142e-01   \n",
       "max       359.999646     491.618014   66972.796064  2.381082e+00   \n",
       "\n",
       "                 tp        tp_cal           per         per_y          moid  \\\n",
       "count  9.585240e+05  9.585240e+05  9.585200e+05  9.585230e+05  9.386030e+05   \n",
       "mean   2.458856e+06  2.019581e+07  5.085344e+03  1.392287e+01  1.415162e+00   \n",
       "std    1.580506e+03  4.337669e+04  2.308961e+06  6.321581e+03  2.156731e+00   \n",
       "min    2.283183e+06  1.539011e+07  1.511918e+02  0.000000e+00  4.544120e-07   \n",
       "25%    2.458560e+06  2.019032e+07  1.347738e+03  3.689903e+00  9.797020e-01   \n",
       "50%    2.458945e+06  2.020041e+07  1.572976e+03  4.306571e+00  1.240850e+00   \n",
       "75%    2.459361e+06  2.021053e+07  1.899765e+03  5.201272e+00  1.593370e+00   \n",
       "max    2.546362e+06  2.259081e+07  2.238462e+09  6.128574e+06  7.947660e+01   \n",
       "\n",
       "             moid_ld       sigma_e       sigma_a       sigma_q       sigma_i  \\\n",
       "count  958397.000000  9.386020e+05  9.386020e+05  9.386020e+05  9.386020e+05   \n",
       "mean      539.364207  7.262721e-01  1.541424e+01  1.982929e+01  1.168449e+00   \n",
       "std       834.306975  9.336391e+01  4.392381e+03  2.903785e+03  1.282231e+02   \n",
       "min         0.000000  4.819000e-12  1.032800e-11  1.956900e-11  4.608900e-09   \n",
       "25%       375.394939  5.474900e-08  2.046500e-08  1.462000e-07  6.095900e-06   \n",
       "50%       477.706175  8.171600e-08  3.849150e-08  2.271900e-07  8.688800e-06   \n",
       "75%       617.324804  2.336475e-07  1.044675e-07  6.583200e-07  1.591500e-05   \n",
       "max     30929.908422  3.942500e+04  3.241200e+06  1.015000e+06  5.533000e+04   \n",
       "\n",
       "           sigma_om       sigma_w      sigma_ma      sigma_ad       sigma_n  \\\n",
       "count  9.386020e+05  9.386020e+05  9.386020e+05  9.385980e+05  9.386020e+05   \n",
       "mean   5.310234e+00  1.370062e+06  1.369977e+06  2.131453e+01  5.060221e-02   \n",
       "std    1.333381e+03  9.158996e+08  9.158991e+08  7.197034e+03  9.814953e+00   \n",
       "min    6.168800e-08  6.624800e-08  7.820700e-09  1.111300e-11  1.196500e-12   \n",
       "25%    3.619400e-05  5.755000e-05  2.573700e-05  2.340900e-08  2.768800e-09   \n",
       "50%    6.642550e-05  1.047100e-04  4.900100e-05  4.359000e-08  4.638000e-09   \n",
       "75%    1.609775e-04  3.114400e-04  1.718900e-04  1.196600e-07  1.124000e-08   \n",
       "max    1.199100e+06  8.845100e+11  8.845100e+11  5.509700e+06  7.698800e+03   \n",
       "\n",
       "           sigma_tp     sigma_per            rms  \n",
       "count  9.386020e+05  9.385980e+05  958522.000000  \n",
       "mean   4.312780e+08  8.525815e+04       0.561153  \n",
       "std    2.953046e+11  2.767681e+07       2.745700  \n",
       "min    3.782900e-08  9.415900e-09       0.000000  \n",
       "25%    1.110900e-04  1.794500e-05       0.518040  \n",
       "50%    2.230800e-04  3.501700e-05       0.566280  \n",
       "75%    8.139600e-04  9.775475e-05       0.613927  \n",
       "max    2.853100e+14  1.910700e+10    2686.600000  "
      ]
     },
     "execution_count": 10,
     "metadata": {},
     "output_type": "execute_result"
    }
   ],
   "source": [
    "df.describe() #Describing the properties of numerical features "
   ]
  },
  {
   "cell_type": "code",
   "execution_count": 11,
   "id": "562352a8",
   "metadata": {},
   "outputs": [
    {
     "data": {
      "text/html": [
       "<div>\n",
       "<style scoped>\n",
       "    .dataframe tbody tr th:only-of-type {\n",
       "        vertical-align: middle;\n",
       "    }\n",
       "\n",
       "    .dataframe tbody tr th {\n",
       "        vertical-align: top;\n",
       "    }\n",
       "\n",
       "    .dataframe thead th {\n",
       "        text-align: right;\n",
       "    }\n",
       "</style>\n",
       "<table border=\"1\" class=\"dataframe\">\n",
       "  <thead>\n",
       "    <tr style=\"text-align: right;\">\n",
       "      <th></th>\n",
       "      <th>neo</th>\n",
       "      <th>pha</th>\n",
       "      <th>equinox</th>\n",
       "      <th>OrbitType</th>\n",
       "    </tr>\n",
       "  </thead>\n",
       "  <tbody>\n",
       "    <tr>\n",
       "      <th>count</th>\n",
       "      <td>958520</td>\n",
       "      <td>938603</td>\n",
       "      <td>958524</td>\n",
       "      <td>958524</td>\n",
       "    </tr>\n",
       "    <tr>\n",
       "      <th>unique</th>\n",
       "      <td>2</td>\n",
       "      <td>2</td>\n",
       "      <td>1</td>\n",
       "      <td>13</td>\n",
       "    </tr>\n",
       "    <tr>\n",
       "      <th>top</th>\n",
       "      <td>N</td>\n",
       "      <td>N</td>\n",
       "      <td>J2000</td>\n",
       "      <td>MBA</td>\n",
       "    </tr>\n",
       "    <tr>\n",
       "      <th>freq</th>\n",
       "      <td>935625</td>\n",
       "      <td>936537</td>\n",
       "      <td>958524</td>\n",
       "      <td>855954</td>\n",
       "    </tr>\n",
       "  </tbody>\n",
       "</table>\n",
       "</div>"
      ],
      "text/plain": [
       "           neo     pha equinox OrbitType\n",
       "count   958520  938603  958524    958524\n",
       "unique       2       2       1        13\n",
       "top          N       N   J2000       MBA\n",
       "freq    935625  936537  958524    855954"
      ]
     },
     "execution_count": 11,
     "metadata": {},
     "output_type": "execute_result"
    }
   ],
   "source": [
    "df.describe(include = 'object') #describing the properties of categorical features"
   ]
  },
  {
   "cell_type": "code",
   "execution_count": 12,
   "id": "6cba3324",
   "metadata": {},
   "outputs": [],
   "source": [
    "df = df.drop(['equinox'], axis=1) #Dropping Equinox since it has only 1 unique value (J200) that doesnt contribute anything to our model"
   ]
  },
  {
   "cell_type": "code",
   "execution_count": 13,
   "id": "419eeddf",
   "metadata": {},
   "outputs": [
    {
     "data": {
      "text/plain": [
       "(958524, 37)"
      ]
     },
     "execution_count": 13,
     "metadata": {},
     "output_type": "execute_result"
    }
   ],
   "source": [
    "df.shape #Checking updated no of columns"
   ]
  },
  {
   "cell_type": "code",
   "execution_count": 14,
   "id": "6719d0b0",
   "metadata": {},
   "outputs": [
    {
     "data": {
      "text/plain": [
       "OrbitType\n",
       "MBA    855954\n",
       "OMB     28355\n",
       "IMB     20360\n",
       "MCA     18685\n",
       "APO     12687\n",
       "AMO      8457\n",
       "TJN      8221\n",
       "TNO      3468\n",
       "ATE      1729\n",
       "CEN       506\n",
       "AST        76\n",
       "IEO        22\n",
       "HYA         4\n",
       "Name: count, dtype: int64"
      ]
     },
     "execution_count": 14,
     "metadata": {},
     "output_type": "execute_result"
    }
   ],
   "source": [
    "(df['OrbitType'].value_counts()) #Seeing the types of classes in our data and no of rows corresponding to each class"
   ]
  },
  {
   "cell_type": "code",
   "execution_count": 15,
   "id": "213ae8cc",
   "metadata": {},
   "outputs": [
    {
     "data": {
      "text/plain": [
       "OrbitType\n",
       "MBA    89.299172\n",
       "OMB     2.958194\n",
       "IMB     2.124099\n",
       "MCA     1.949351\n",
       "APO     1.323598\n",
       "AMO     0.882294\n",
       "TJN     0.857673\n",
       "TNO     0.361806\n",
       "ATE     0.180382\n",
       "CEN     0.052789\n",
       "AST     0.007929\n",
       "IEO     0.002295\n",
       "HYA     0.000417\n",
       "Name: count, dtype: float64"
      ]
     },
     "execution_count": 15,
     "metadata": {},
     "output_type": "execute_result"
    }
   ],
   "source": [
    "(df['OrbitType'].value_counts())/len(df) * 100 #Checking the distribution of class type in %ge"
   ]
  },
  {
   "cell_type": "code",
   "execution_count": 16,
   "id": "de81eb40",
   "metadata": {},
   "outputs": [],
   "source": [
    "classes_to_remove = ['HYA', 'IEO', 'AST']\n",
    "# Filtering the DataFrame to select rows where the class is not in the specified classes_to_remove list\n",
    "df = df[~df['OrbitType'].isin(classes_to_remove)]"
   ]
  },
  {
   "cell_type": "code",
   "execution_count": 17,
   "id": "fad4463c",
   "metadata": {},
   "outputs": [
    {
     "data": {
      "text/plain": [
       "(958422, 37)"
      ]
     },
     "execution_count": 17,
     "metadata": {},
     "output_type": "execute_result"
    }
   ],
   "source": [
    "df.shape #Checking updated no of rows"
   ]
  },
  {
   "cell_type": "code",
   "execution_count": 18,
   "id": "b2010f03",
   "metadata": {},
   "outputs": [
    {
     "data": {
      "text/plain": [
       "OrbitType\n",
       "MBA    855954\n",
       "OMB     28355\n",
       "IMB     20360\n",
       "MCA     18685\n",
       "APO     12687\n",
       "AMO      8457\n",
       "TJN      8221\n",
       "TNO      3468\n",
       "ATE      1729\n",
       "CEN       506\n",
       "Name: count, dtype: int64"
      ]
     },
     "execution_count": 18,
     "metadata": {},
     "output_type": "execute_result"
    }
   ],
   "source": [
    "df['OrbitType'].value_counts() #Checking Updated no of classes and their distributions"
   ]
  },
  {
   "cell_type": "markdown",
   "id": "c3df8294",
   "metadata": {},
   "source": [
    "# 1.)Feature Engineering and Exploratory Data Analysis"
   ]
  },
  {
   "cell_type": "markdown",
   "id": "f76cfb91",
   "metadata": {},
   "source": [
    "# Handling Missng/Null Values"
   ]
  },
  {
   "cell_type": "markdown",
   "id": "c74a2aab",
   "metadata": {},
   "source": [
    "plt.figure(figsize = (30,30))  #plotting heatmap to see distribution of missing values\n",
    "sns.heatmap(df.isnull())"
   ]
  },
  {
   "cell_type": "code",
   "execution_count": 19,
   "id": "cdede70d",
   "metadata": {},
   "outputs": [
    {
     "data": {
      "text/plain": [
       "neo                    0\n",
       "pha                19920\n",
       "H                   6245\n",
       "diameter          822221\n",
       "albedo            823326\n",
       "diameter_sigma    822349\n",
       "epoch                  0\n",
       "epoch_mjd              0\n",
       "epoch_cal              0\n",
       "e                      0\n",
       "a                      0\n",
       "q                      0\n",
       "i                      0\n",
       "om                     0\n",
       "w                      0\n",
       "ma                     1\n",
       "ad                     0\n",
       "n                      0\n",
       "tp                     0\n",
       "tp_cal                 0\n",
       "per                    0\n",
       "per_y                  0\n",
       "moid               19920\n",
       "moid_ld              127\n",
       "sigma_e            19921\n",
       "sigma_a            19921\n",
       "sigma_q            19921\n",
       "sigma_i            19921\n",
       "sigma_om           19921\n",
       "sigma_w            19921\n",
       "sigma_ma           19921\n",
       "sigma_ad           19921\n",
       "sigma_n            19921\n",
       "sigma_tp           19921\n",
       "sigma_per          19921\n",
       "OrbitType              0\n",
       "rms                    2\n",
       "dtype: int64"
      ]
     },
     "execution_count": 19,
     "metadata": {},
     "output_type": "execute_result"
    }
   ],
   "source": [
    "df.isnull().sum()  #We calculate the no of rows with null values in each column"
   ]
  },
  {
   "cell_type": "code",
   "execution_count": 20,
   "id": "7343cc1f",
   "metadata": {},
   "outputs": [
    {
     "data": {
      "text/plain": [
       "neo                0.000000\n",
       "pha                2.078416\n",
       "H                  0.651592\n",
       "diameter          85.789037\n",
       "albedo            85.904330\n",
       "diameter_sigma    85.802392\n",
       "epoch              0.000000\n",
       "epoch_mjd          0.000000\n",
       "epoch_cal          0.000000\n",
       "e                  0.000000\n",
       "a                  0.000000\n",
       "q                  0.000000\n",
       "i                  0.000000\n",
       "om                 0.000000\n",
       "w                  0.000000\n",
       "ma                 0.000104\n",
       "ad                 0.000000\n",
       "n                  0.000000\n",
       "tp                 0.000000\n",
       "tp_cal             0.000000\n",
       "per                0.000000\n",
       "per_y              0.000000\n",
       "moid               2.078416\n",
       "moid_ld            0.013251\n",
       "sigma_e            2.078521\n",
       "sigma_a            2.078521\n",
       "sigma_q            2.078521\n",
       "sigma_i            2.078521\n",
       "sigma_om           2.078521\n",
       "sigma_w            2.078521\n",
       "sigma_ma           2.078521\n",
       "sigma_ad           2.078521\n",
       "sigma_n            2.078521\n",
       "sigma_tp           2.078521\n",
       "sigma_per          2.078521\n",
       "OrbitType          0.000000\n",
       "rms                0.000209\n",
       "dtype: float64"
      ]
     },
     "execution_count": 20,
     "metadata": {},
     "output_type": "execute_result"
    }
   ],
   "source": [
    "df.isnull().sum()/df.shape[0] *100 #Converting into percentage of Missing values"
   ]
  },
  {
   "cell_type": "code",
   "execution_count": 21,
   "id": "5801ff7a",
   "metadata": {},
   "outputs": [],
   "source": [
    "columns_with_nan = ['neo', 'pha', 'H','ma','ad','per','per_y','moid','moid_ld','sigma_e','sigma_a','sigma_q','sigma_i','sigma_om','sigma_w','rms','sigma_ma','sigma_ad','sigma_n','sigma_tp','sigma_per']\n",
    "# Filtering the DataFrame to select rows where 'classtype' is 'MBA' and drop NaN values from specified columns\n",
    "df = df[(df['OrbitType'] != 'MBA') | df[columns_with_nan].notnull().all(axis=1)]"
   ]
  },
  {
   "cell_type": "code",
   "execution_count": 22,
   "id": "ffc9099e",
   "metadata": {},
   "outputs": [
    {
     "data": {
      "text/plain": [
       "neo                0.000000\n",
       "pha                0.149286\n",
       "H                  0.156558\n",
       "diameter          85.846492\n",
       "albedo            85.936000\n",
       "diameter_sigma    85.860180\n",
       "epoch              0.000000\n",
       "epoch_mjd          0.000000\n",
       "epoch_cal          0.000000\n",
       "e                  0.000000\n",
       "a                  0.000000\n",
       "q                  0.000000\n",
       "i                  0.000000\n",
       "om                 0.000000\n",
       "w                  0.000000\n",
       "ma                 0.000107\n",
       "ad                 0.000000\n",
       "n                  0.000000\n",
       "tp                 0.000000\n",
       "tp_cal             0.000000\n",
       "per                0.000000\n",
       "per_y              0.000000\n",
       "moid               0.149286\n",
       "moid_ld            0.005240\n",
       "sigma_e            0.149393\n",
       "sigma_a            0.149393\n",
       "sigma_q            0.149393\n",
       "sigma_i            0.149393\n",
       "sigma_om           0.149393\n",
       "sigma_w            0.149393\n",
       "sigma_ma           0.149393\n",
       "sigma_ad           0.149393\n",
       "sigma_n            0.149393\n",
       "sigma_tp           0.149393\n",
       "sigma_per          0.149393\n",
       "OrbitType          0.000000\n",
       "rms                0.000107\n",
       "dtype: float64"
      ]
     },
     "execution_count": 22,
     "metadata": {},
     "output_type": "execute_result"
    }
   ],
   "source": [
    "df.isnull().sum()/df.shape[0] *100 #Checking Updated Percentage of missing values"
   ]
  },
  {
   "cell_type": "code",
   "execution_count": 23,
   "id": "b1a9e475",
   "metadata": {},
   "outputs": [
    {
     "data": {
      "text/plain": [
       "(935118, 37)"
      ]
     },
     "execution_count": 23,
     "metadata": {},
     "output_type": "execute_result"
    }
   ],
   "source": [
    "df.shape #Checking Updated no of rows after removal"
   ]
  },
  {
   "cell_type": "code",
   "execution_count": 24,
   "id": "8e294a26",
   "metadata": {},
   "outputs": [
    {
     "data": {
      "text/plain": [
       "OrbitType\n",
       "MBA    832650\n",
       "OMB     28355\n",
       "IMB     20360\n",
       "MCA     18685\n",
       "APO     12687\n",
       "AMO      8457\n",
       "TJN      8221\n",
       "TNO      3468\n",
       "ATE      1729\n",
       "CEN       506\n",
       "Name: count, dtype: int64"
      ]
     },
     "execution_count": 24,
     "metadata": {},
     "output_type": "execute_result"
    }
   ],
   "source": [
    "(df['OrbitType'].value_counts()) #Checking updated class distribution"
   ]
  },
  {
   "cell_type": "code",
   "execution_count": 25,
   "id": "6ddea3ea",
   "metadata": {
    "scrolled": true
   },
   "outputs": [],
   "source": [
    "df = df.drop(['diameter', 'albedo', 'diameter_sigma'], axis=1) #Dropping features with more than 50% Missing values"
   ]
  },
  {
   "cell_type": "code",
   "execution_count": 26,
   "id": "f2cbd121",
   "metadata": {},
   "outputs": [
    {
     "data": {
      "text/plain": [
       "(935118, 34)"
      ]
     },
     "execution_count": 26,
     "metadata": {},
     "output_type": "execute_result"
    }
   ],
   "source": [
    "df.shape #Checking Updated no of columns"
   ]
  },
  {
   "cell_type": "code",
   "execution_count": 27,
   "id": "c45a5a6c",
   "metadata": {},
   "outputs": [
    {
     "name": "stdout",
     "output_type": "stream",
     "text": [
      "<class 'pandas.core.frame.DataFrame'>\n",
      "Index: 935118 entries, 0 to 958523\n",
      "Data columns (total 34 columns):\n",
      " #   Column     Non-Null Count   Dtype  \n",
      "---  ------     --------------   -----  \n",
      " 0   neo        935118 non-null  object \n",
      " 1   pha        933722 non-null  object \n",
      " 2   H          933654 non-null  float64\n",
      " 3   epoch      935118 non-null  float64\n",
      " 4   epoch_mjd  935118 non-null  int64  \n",
      " 5   epoch_cal  935118 non-null  float64\n",
      " 6   e          935118 non-null  float64\n",
      " 7   a          935118 non-null  float64\n",
      " 8   q          935118 non-null  float64\n",
      " 9   i          935118 non-null  float64\n",
      " 10  om         935118 non-null  float64\n",
      " 11  w          935118 non-null  float64\n",
      " 12  ma         935117 non-null  float64\n",
      " 13  ad         935118 non-null  float64\n",
      " 14  n          935118 non-null  float64\n",
      " 15  tp         935118 non-null  float64\n",
      " 16  tp_cal     935118 non-null  float64\n",
      " 17  per        935118 non-null  float64\n",
      " 18  per_y      935118 non-null  float64\n",
      " 19  moid       933722 non-null  float64\n",
      " 20  moid_ld    935069 non-null  float64\n",
      " 21  sigma_e    933721 non-null  float64\n",
      " 22  sigma_a    933721 non-null  float64\n",
      " 23  sigma_q    933721 non-null  float64\n",
      " 24  sigma_i    933721 non-null  float64\n",
      " 25  sigma_om   933721 non-null  float64\n",
      " 26  sigma_w    933721 non-null  float64\n",
      " 27  sigma_ma   933721 non-null  float64\n",
      " 28  sigma_ad   933721 non-null  float64\n",
      " 29  sigma_n    933721 non-null  float64\n",
      " 30  sigma_tp   933721 non-null  float64\n",
      " 31  sigma_per  933721 non-null  float64\n",
      " 32  OrbitType  935118 non-null  object \n",
      " 33  rms        935117 non-null  float64\n",
      "dtypes: float64(30), int64(1), object(3)\n",
      "memory usage: 249.7+ MB\n"
     ]
    }
   ],
   "source": [
    "df.info() #Checking Updated info"
   ]
  },
  {
   "cell_type": "markdown",
   "id": "58524548",
   "metadata": {},
   "source": [
    " # Imputing Null Values"
   ]
  },
  {
   "cell_type": "code",
   "execution_count": 28,
   "id": "805516ad",
   "metadata": {},
   "outputs": [],
   "source": [
    "a = df.select_dtypes('number')\n",
    "# Select string and object columns.\n",
    "b = df.select_dtypes('object')\n",
    "\n",
    "# Fill numeric columns with mean.\n",
    "df[a.columns] = a.fillna(a.mean())\n",
    "# Fill object columns with mode.\n",
    "df[b.columns] = b.fillna(b.agg(lambda x: x.mode().values[0]))"
   ]
  },
  {
   "cell_type": "code",
   "execution_count": 29,
   "id": "51ba1156",
   "metadata": {},
   "outputs": [
    {
     "name": "stdout",
     "output_type": "stream",
     "text": [
      "<class 'pandas.core.frame.DataFrame'>\n",
      "Index: 935118 entries, 0 to 958523\n",
      "Data columns (total 34 columns):\n",
      " #   Column     Non-Null Count   Dtype  \n",
      "---  ------     --------------   -----  \n",
      " 0   neo        935118 non-null  object \n",
      " 1   pha        935118 non-null  object \n",
      " 2   H          935118 non-null  float64\n",
      " 3   epoch      935118 non-null  float64\n",
      " 4   epoch_mjd  935118 non-null  int64  \n",
      " 5   epoch_cal  935118 non-null  float64\n",
      " 6   e          935118 non-null  float64\n",
      " 7   a          935118 non-null  float64\n",
      " 8   q          935118 non-null  float64\n",
      " 9   i          935118 non-null  float64\n",
      " 10  om         935118 non-null  float64\n",
      " 11  w          935118 non-null  float64\n",
      " 12  ma         935118 non-null  float64\n",
      " 13  ad         935118 non-null  float64\n",
      " 14  n          935118 non-null  float64\n",
      " 15  tp         935118 non-null  float64\n",
      " 16  tp_cal     935118 non-null  float64\n",
      " 17  per        935118 non-null  float64\n",
      " 18  per_y      935118 non-null  float64\n",
      " 19  moid       935118 non-null  float64\n",
      " 20  moid_ld    935118 non-null  float64\n",
      " 21  sigma_e    935118 non-null  float64\n",
      " 22  sigma_a    935118 non-null  float64\n",
      " 23  sigma_q    935118 non-null  float64\n",
      " 24  sigma_i    935118 non-null  float64\n",
      " 25  sigma_om   935118 non-null  float64\n",
      " 26  sigma_w    935118 non-null  float64\n",
      " 27  sigma_ma   935118 non-null  float64\n",
      " 28  sigma_ad   935118 non-null  float64\n",
      " 29  sigma_n    935118 non-null  float64\n",
      " 30  sigma_tp   935118 non-null  float64\n",
      " 31  sigma_per  935118 non-null  float64\n",
      " 32  OrbitType  935118 non-null  object \n",
      " 33  rms        935118 non-null  float64\n",
      "dtypes: float64(30), int64(1), object(3)\n",
      "memory usage: 249.7+ MB\n"
     ]
    }
   ],
   "source": [
    "df.info() #Checking final info after imputing null values with mean and mode"
   ]
  },
  {
   "cell_type": "markdown",
   "id": "389d8322",
   "metadata": {},
   "source": [
    "# Encoding Of Categorical Features"
   ]
  },
  {
   "cell_type": "code",
   "execution_count": 30,
   "id": "8469b0b9",
   "metadata": {},
   "outputs": [],
   "source": [
    "df['neo'].replace(['N', 'Y'],\n",
    "                        [0, 1], inplace=True) #Encoding  with 0-1"
   ]
  },
  {
   "cell_type": "code",
   "execution_count": 31,
   "id": "29bb8627",
   "metadata": {},
   "outputs": [],
   "source": [
    "df['pha'].replace(['N', 'Y'],\n",
    "                        [0, 1], inplace=True) #Encoding  with 0-1"
   ]
  },
  {
   "cell_type": "markdown",
   "id": "6fbe79a2",
   "metadata": {},
   "source": [
    "# Random UnderSampling to Handle Class Imbalance"
   ]
  },
  {
   "cell_type": "code",
   "execution_count": 32,
   "id": "90fb9e81",
   "metadata": {},
   "outputs": [
    {
     "name": "stdout",
     "output_type": "stream",
     "text": [
      "OrbitType\n",
      "MBA    30000\n",
      "OMB    28355\n",
      "IMB    20360\n",
      "MCA    18685\n",
      "APO    12687\n",
      "AMO     8457\n",
      "TJN     8221\n",
      "TNO     3468\n",
      "ATE     1729\n",
      "CEN      506\n",
      "Name: count, dtype: int64\n"
     ]
    }
   ],
   "source": [
    "from sklearn.utils import resample\n",
    "\n",
    "# Assuming df is your DataFrame containing the dataset\n",
    "# Separate majority and minority classes\n",
    "majority_class = df[df['OrbitType'] == 'MBA']\n",
    "minority_class = df[df['OrbitType'] != 'MBA']\n",
    "\n",
    "# Downsample majority class to 30,000 rows\n",
    "majority_downsampled = resample(majority_class, \n",
    "                                 replace=False,    # sample without replacement\n",
    "                                 n_samples=30000,  # desired number of samples\n",
    "                                 random_state=22)  # reproducible results\n",
    "\n",
    "# Combine minority class with downsampled majority class\n",
    "df = pd.concat([majority_downsampled, minority_class])\n",
    "\n",
    "# Shuffle the DataFrame\n",
    "df = df.sample(frac=1, random_state=22).reset_index(drop=True)\n",
    "\n",
    "# Display the class distribution after downsampling\n",
    "print(df['OrbitType'].value_counts())"
   ]
  },
  {
   "cell_type": "code",
   "execution_count": 33,
   "id": "a2ce9fdc",
   "metadata": {},
   "outputs": [
    {
     "name": "stdout",
     "output_type": "stream",
     "text": [
      "<class 'pandas.core.frame.DataFrame'>\n",
      "RangeIndex: 132468 entries, 0 to 132467\n",
      "Data columns (total 34 columns):\n",
      " #   Column     Non-Null Count   Dtype  \n",
      "---  ------     --------------   -----  \n",
      " 0   neo        132468 non-null  int64  \n",
      " 1   pha        132468 non-null  int64  \n",
      " 2   H          132468 non-null  float64\n",
      " 3   epoch      132468 non-null  float64\n",
      " 4   epoch_mjd  132468 non-null  int64  \n",
      " 5   epoch_cal  132468 non-null  float64\n",
      " 6   e          132468 non-null  float64\n",
      " 7   a          132468 non-null  float64\n",
      " 8   q          132468 non-null  float64\n",
      " 9   i          132468 non-null  float64\n",
      " 10  om         132468 non-null  float64\n",
      " 11  w          132468 non-null  float64\n",
      " 12  ma         132468 non-null  float64\n",
      " 13  ad         132468 non-null  float64\n",
      " 14  n          132468 non-null  float64\n",
      " 15  tp         132468 non-null  float64\n",
      " 16  tp_cal     132468 non-null  float64\n",
      " 17  per        132468 non-null  float64\n",
      " 18  per_y      132468 non-null  float64\n",
      " 19  moid       132468 non-null  float64\n",
      " 20  moid_ld    132468 non-null  float64\n",
      " 21  sigma_e    132468 non-null  float64\n",
      " 22  sigma_a    132468 non-null  float64\n",
      " 23  sigma_q    132468 non-null  float64\n",
      " 24  sigma_i    132468 non-null  float64\n",
      " 25  sigma_om   132468 non-null  float64\n",
      " 26  sigma_w    132468 non-null  float64\n",
      " 27  sigma_ma   132468 non-null  float64\n",
      " 28  sigma_ad   132468 non-null  float64\n",
      " 29  sigma_n    132468 non-null  float64\n",
      " 30  sigma_tp   132468 non-null  float64\n",
      " 31  sigma_per  132468 non-null  float64\n",
      " 32  OrbitType  132468 non-null  object \n",
      " 33  rms        132468 non-null  float64\n",
      "dtypes: float64(30), int64(3), object(1)\n",
      "memory usage: 34.4+ MB\n"
     ]
    }
   ],
   "source": [
    "df.info()"
   ]
  },
  {
   "cell_type": "code",
   "execution_count": 34,
   "id": "7074728b",
   "metadata": {},
   "outputs": [],
   "source": [
    "from sklearn.model_selection import  train_test_split #Importing libraries\n",
    "from sklearn.metrics import accuracy_score,precision_score\n",
    "from sklearn.metrics import recall_score\n",
    "from sklearn import metrics\n",
    "from sklearn.model_selection import RandomizedSearchCV, StratifiedKFold\n",
    "from scipy.stats import randint\n",
    "from sklearn.metrics import classification_report"
   ]
  },
  {
   "cell_type": "code",
   "execution_count": 35,
   "id": "78101c5a",
   "metadata": {},
   "outputs": [],
   "source": [
    "X = df.drop('OrbitType', axis=1)\n",
    "y = df['OrbitType']\n",
    "\n",
    "# Split the data into training and test sets\n",
    "X_train, X_test, y_train, y_test = train_test_split(X, y, stratify = y ,test_size=0.3,random_state = 22)"
   ]
  },
  {
   "cell_type": "markdown",
   "id": "a70d8feb",
   "metadata": {},
   "source": [
    "# KNN"
   ]
  },
  {
   "cell_type": "code",
   "execution_count": 36,
   "id": "628d9e0c",
   "metadata": {},
   "outputs": [],
   "source": [
    "from sklearn.neighbors import KNeighborsClassifier"
   ]
  },
  {
   "cell_type": "code",
   "execution_count": 37,
   "id": "f7abfc5f",
   "metadata": {},
   "outputs": [],
   "source": [
    "knn = KNeighborsClassifier()\n",
    "\n",
    "# Define hyperparameters to tune\n",
    "param_dist = {\n",
    "    'n_neighbors':randint(1,10),  # Number of neighbors\n",
    "    'weights': ['uniform', 'distance'],  # Weight function used in prediction\n",
    "    'algorithm': ['auto', 'ball_tree', 'kd_tree', 'brute'],  # Algorithm to compute the nearest neighbors\n",
    "    'p': [1, 2]\n",
    "}# Power parameter for the Minkowski met"
   ]
  },
  {
   "cell_type": "code",
   "execution_count": 38,
   "id": "62a4debc",
   "metadata": {},
   "outputs": [
    {
     "data": {
      "text/html": [
       "<style>#sk-container-id-1 {color: black;background-color: white;}#sk-container-id-1 pre{padding: 0;}#sk-container-id-1 div.sk-toggleable {background-color: white;}#sk-container-id-1 label.sk-toggleable__label {cursor: pointer;display: block;width: 100%;margin-bottom: 0;padding: 0.3em;box-sizing: border-box;text-align: center;}#sk-container-id-1 label.sk-toggleable__label-arrow:before {content: \"▸\";float: left;margin-right: 0.25em;color: #696969;}#sk-container-id-1 label.sk-toggleable__label-arrow:hover:before {color: black;}#sk-container-id-1 div.sk-estimator:hover label.sk-toggleable__label-arrow:before {color: black;}#sk-container-id-1 div.sk-toggleable__content {max-height: 0;max-width: 0;overflow: hidden;text-align: left;background-color: #f0f8ff;}#sk-container-id-1 div.sk-toggleable__content pre {margin: 0.2em;color: black;border-radius: 0.25em;background-color: #f0f8ff;}#sk-container-id-1 input.sk-toggleable__control:checked~div.sk-toggleable__content {max-height: 200px;max-width: 100%;overflow: auto;}#sk-container-id-1 input.sk-toggleable__control:checked~label.sk-toggleable__label-arrow:before {content: \"▾\";}#sk-container-id-1 div.sk-estimator input.sk-toggleable__control:checked~label.sk-toggleable__label {background-color: #d4ebff;}#sk-container-id-1 div.sk-label input.sk-toggleable__control:checked~label.sk-toggleable__label {background-color: #d4ebff;}#sk-container-id-1 input.sk-hidden--visually {border: 0;clip: rect(1px 1px 1px 1px);clip: rect(1px, 1px, 1px, 1px);height: 1px;margin: -1px;overflow: hidden;padding: 0;position: absolute;width: 1px;}#sk-container-id-1 div.sk-estimator {font-family: monospace;background-color: #f0f8ff;border: 1px dotted black;border-radius: 0.25em;box-sizing: border-box;margin-bottom: 0.5em;}#sk-container-id-1 div.sk-estimator:hover {background-color: #d4ebff;}#sk-container-id-1 div.sk-parallel-item::after {content: \"\";width: 100%;border-bottom: 1px solid gray;flex-grow: 1;}#sk-container-id-1 div.sk-label:hover label.sk-toggleable__label {background-color: #d4ebff;}#sk-container-id-1 div.sk-serial::before {content: \"\";position: absolute;border-left: 1px solid gray;box-sizing: border-box;top: 0;bottom: 0;left: 50%;z-index: 0;}#sk-container-id-1 div.sk-serial {display: flex;flex-direction: column;align-items: center;background-color: white;padding-right: 0.2em;padding-left: 0.2em;position: relative;}#sk-container-id-1 div.sk-item {position: relative;z-index: 1;}#sk-container-id-1 div.sk-parallel {display: flex;align-items: stretch;justify-content: center;background-color: white;position: relative;}#sk-container-id-1 div.sk-item::before, #sk-container-id-1 div.sk-parallel-item::before {content: \"\";position: absolute;border-left: 1px solid gray;box-sizing: border-box;top: 0;bottom: 0;left: 50%;z-index: -1;}#sk-container-id-1 div.sk-parallel-item {display: flex;flex-direction: column;z-index: 1;position: relative;background-color: white;}#sk-container-id-1 div.sk-parallel-item:first-child::after {align-self: flex-end;width: 50%;}#sk-container-id-1 div.sk-parallel-item:last-child::after {align-self: flex-start;width: 50%;}#sk-container-id-1 div.sk-parallel-item:only-child::after {width: 0;}#sk-container-id-1 div.sk-dashed-wrapped {border: 1px dashed gray;margin: 0 0.4em 0.5em 0.4em;box-sizing: border-box;padding-bottom: 0.4em;background-color: white;}#sk-container-id-1 div.sk-label label {font-family: monospace;font-weight: bold;display: inline-block;line-height: 1.2em;}#sk-container-id-1 div.sk-label-container {text-align: center;}#sk-container-id-1 div.sk-container {/* jupyter's `normalize.less` sets `[hidden] { display: none; }` but bootstrap.min.css set `[hidden] { display: none !important; }` so we also need the `!important` here to be able to override the default hidden behavior on the sphinx rendered scikit-learn.org. See: https://github.com/scikit-learn/scikit-learn/issues/21755 */display: inline-block !important;position: relative;}#sk-container-id-1 div.sk-text-repr-fallback {display: none;}</style><div id=\"sk-container-id-1\" class=\"sk-top-container\"><div class=\"sk-text-repr-fallback\"><pre>RandomizedSearchCV(cv=StratifiedKFold(n_splits=5, random_state=22, shuffle=True),\n",
       "                   estimator=KNeighborsClassifier(), n_iter=5,\n",
       "                   param_distributions={&#x27;algorithm&#x27;: [&#x27;auto&#x27;, &#x27;ball_tree&#x27;,\n",
       "                                                      &#x27;kd_tree&#x27;, &#x27;brute&#x27;],\n",
       "                                        &#x27;n_neighbors&#x27;: &lt;scipy.stats._distn_infrastructure.rv_discrete_frozen object at 0x0000024B8C7CEED0&gt;,\n",
       "                                        &#x27;p&#x27;: [1, 2],\n",
       "                                        &#x27;weights&#x27;: [&#x27;uniform&#x27;, &#x27;distance&#x27;]},\n",
       "                   random_state=22, scoring=&#x27;accuracy&#x27;)</pre><b>In a Jupyter environment, please rerun this cell to show the HTML representation or trust the notebook. <br />On GitHub, the HTML representation is unable to render, please try loading this page with nbviewer.org.</b></div><div class=\"sk-container\" hidden><div class=\"sk-item sk-dashed-wrapped\"><div class=\"sk-label-container\"><div class=\"sk-label sk-toggleable\"><input class=\"sk-toggleable__control sk-hidden--visually\" id=\"sk-estimator-id-1\" type=\"checkbox\" ><label for=\"sk-estimator-id-1\" class=\"sk-toggleable__label sk-toggleable__label-arrow\">RandomizedSearchCV</label><div class=\"sk-toggleable__content\"><pre>RandomizedSearchCV(cv=StratifiedKFold(n_splits=5, random_state=22, shuffle=True),\n",
       "                   estimator=KNeighborsClassifier(), n_iter=5,\n",
       "                   param_distributions={&#x27;algorithm&#x27;: [&#x27;auto&#x27;, &#x27;ball_tree&#x27;,\n",
       "                                                      &#x27;kd_tree&#x27;, &#x27;brute&#x27;],\n",
       "                                        &#x27;n_neighbors&#x27;: &lt;scipy.stats._distn_infrastructure.rv_discrete_frozen object at 0x0000024B8C7CEED0&gt;,\n",
       "                                        &#x27;p&#x27;: [1, 2],\n",
       "                                        &#x27;weights&#x27;: [&#x27;uniform&#x27;, &#x27;distance&#x27;]},\n",
       "                   random_state=22, scoring=&#x27;accuracy&#x27;)</pre></div></div></div><div class=\"sk-parallel\"><div class=\"sk-parallel-item\"><div class=\"sk-item\"><div class=\"sk-label-container\"><div class=\"sk-label sk-toggleable\"><input class=\"sk-toggleable__control sk-hidden--visually\" id=\"sk-estimator-id-2\" type=\"checkbox\" ><label for=\"sk-estimator-id-2\" class=\"sk-toggleable__label sk-toggleable__label-arrow\">estimator: KNeighborsClassifier</label><div class=\"sk-toggleable__content\"><pre>KNeighborsClassifier()</pre></div></div></div><div class=\"sk-serial\"><div class=\"sk-item\"><div class=\"sk-estimator sk-toggleable\"><input class=\"sk-toggleable__control sk-hidden--visually\" id=\"sk-estimator-id-3\" type=\"checkbox\" ><label for=\"sk-estimator-id-3\" class=\"sk-toggleable__label sk-toggleable__label-arrow\">KNeighborsClassifier</label><div class=\"sk-toggleable__content\"><pre>KNeighborsClassifier()</pre></div></div></div></div></div></div></div></div></div></div>"
      ],
      "text/plain": [
       "RandomizedSearchCV(cv=StratifiedKFold(n_splits=5, random_state=22, shuffle=True),\n",
       "                   estimator=KNeighborsClassifier(), n_iter=5,\n",
       "                   param_distributions={'algorithm': ['auto', 'ball_tree',\n",
       "                                                      'kd_tree', 'brute'],\n",
       "                                        'n_neighbors': <scipy.stats._distn_infrastructure.rv_discrete_frozen object at 0x0000024B8C7CEED0>,\n",
       "                                        'p': [1, 2],\n",
       "                                        'weights': ['uniform', 'distance']},\n",
       "                   random_state=22, scoring='accuracy')"
      ]
     },
     "execution_count": 38,
     "metadata": {},
     "output_type": "execute_result"
    }
   ],
   "source": [
    "cv = StratifiedKFold(n_splits=5, shuffle=True, random_state=22)\n",
    "random_search = RandomizedSearchCV(knn, param_distributions=param_dist, n_iter=5, cv=cv, scoring='accuracy', random_state=22)\n",
    "\n",
    "# Perform hyperparameter tuning\n",
    "random_search.fit(X_train, y_train)\n"
   ]
  },
  {
   "cell_type": "code",
   "execution_count": 39,
   "id": "e807ba3e",
   "metadata": {},
   "outputs": [
    {
     "name": "stdout",
     "output_type": "stream",
     "text": [
      "Best Hyperparameters: {'algorithm': 'auto', 'n_neighbors': 7, 'p': 1, 'weights': 'distance'}\n"
     ]
    }
   ],
   "source": [
    "best_params = random_search.best_params_\n",
    "print(\"Best Hyperparameters:\", best_params)"
   ]
  },
  {
   "cell_type": "code",
   "execution_count": 43,
   "id": "f6dc0e12",
   "metadata": {},
   "outputs": [
    {
     "name": "stdout",
     "output_type": "stream",
     "text": [
      "\n",
      "Test Accuracy: 0.8785385370272515\n"
     ]
    }
   ],
   "source": [
    "best_knn_clf = KNeighborsClassifier(**best_params)\n",
    "best_knn_clf.fit(X_train, y_train)\n",
    "\n",
    "# Evaluate the model on testing data\n",
    "y_test_pred = best_knn_clf.predict(X_test)\n",
    "test_accuracy = accuracy_score(y_test, y_test_pred)\n",
    "print(\"\\nTest Accuracy:\", test_accuracy)"
   ]
  },
  {
   "cell_type": "code",
   "execution_count": 41,
   "id": "025f0fc6",
   "metadata": {},
   "outputs": [
    {
     "data": {
      "image/png": "[encoded data removed]",
      "text/plain": [
       "<Figure size 800x800 with 2 Axes>"
      ]
     },
     "metadata": {},
     "output_type": "display_data"
    }
   ],
   "source": [
    "from sklearn.metrics import confusion_matrix\n",
    "cm = confusion_matrix(y_test, y_test_pred, labels=best_knn_clf.classes_)\n",
    "\n",
    "# Plot confusion matrix\n",
    "plt.figure(figsize=(8, 8))\n",
    "sns.heatmap(cm, annot=False, fmt='d', cmap='Blues', cbar=True, \n",
    "            xticklabels=best_knn_clf.classes_, yticklabels=best_knn_clf.classes_)\n",
    "plt.title('Confusion Matrix')\n",
    "plt.xlabel('Predicted Class')\n",
    "plt.ylabel('True Class')\n",
    "plt.show()"
   ]
  },
  {
   "cell_type": "code",
   "execution_count": 42,
   "id": "d1e00893",
   "metadata": {},
   "outputs": [
    {
     "name": "stdout",
     "output_type": "stream",
     "text": [
      "              precision    recall  f1-score   support\n",
      "\n",
      "         AMO       0.60      0.48      0.53      2537\n",
      "         APO       0.71      0.80      0.75      3806\n",
      "         ATE       0.95      0.84      0.89       519\n",
      "         CEN       0.97      0.73      0.83       152\n",
      "         IMB       0.88      0.96      0.92      6108\n",
      "         MBA       0.98      0.89      0.93      9000\n",
      "         MCA       0.83      0.78      0.80      5606\n",
      "         OMB       0.91      0.99      0.95      8507\n",
      "         TJN       0.99      0.98      0.98      2466\n",
      "         TNO       0.99      1.00      0.99      1040\n",
      "\n",
      "    accuracy                           0.88     39741\n",
      "   macro avg       0.88      0.84      0.86     39741\n",
      "weighted avg       0.88      0.88      0.88     39741\n",
      "\n"
     ]
    }
   ],
   "source": [
    "print(classification_report(y_test, y_test_pred,zero_division= 1))"
   ]
  }
 ],
 "metadata": {
  "kernelspec": {
   "display_name": "Python 3 (ipykernel)",
   "language": "python",
   "name": "python3"
  },
  "language_info": {
   "codemirror_mode": {
    "name": "ipython",
    "version": 3
   },
   "file_extension": ".py",
   "mimetype": "text/x-python",
   "name": "python",
   "nbconvert_exporter": "python",
   "pygments_lexer": "ipython3",
   "version": "3.11.7"
  }
 },
 "nbformat": 4,
 "nbformat_minor": 5
}
